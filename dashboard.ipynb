{
 "cells": [
  {
   "cell_type": "markdown",
   "id": "d76bdcf1",
   "metadata": {},
   "source": [
    "# 003 Advanced Trading Strategies: Deep Learning\n",
    "### Microestructura y Sistemas de Trading\n",
    "#####  José Armando Melchor Soto & Rolando Fortanell Canedo\n"
   ]
  },
  {
   "cell_type": "markdown",
   "id": "8eb6b039",
   "metadata": {},
   "source": [
    "---"
   ]
  },
  {
   "cell_type": "markdown",
   "id": "d5fdb747",
   "metadata": {},
   "source": [
    "#### Libraries\n"
   ]
  },
  {
   "cell_type": "code",
   "execution_count": 1,
   "id": "c8a373cf",
   "metadata": {},
   "outputs": [],
   "source": [
    "from libraries import *\n"
   ]
  },
  {
   "cell_type": "markdown",
   "id": "f543fbff",
   "metadata": {},
   "source": [
    "---"
   ]
  },
  {
   "cell_type": "markdown",
   "id": "3e39d7a2",
   "metadata": {},
   "source": [
    "#### Dashboard"
   ]
  },
  {
   "cell_type": "markdown",
   "id": "8487e467",
   "metadata": {},
   "source": []
  }
 ],
 "metadata": {
  "kernelspec": {
   "display_name": "env",
   "language": "python",
   "name": "python3"
  },
  "language_info": {
   "codemirror_mode": {
    "name": "ipython",
    "version": 3
   },
   "file_extension": ".py",
   "mimetype": "text/x-python",
   "name": "python",
   "nbconvert_exporter": "python",
   "pygments_lexer": "ipython3",
   "version": "3.13.5"
  }
 },
 "nbformat": 4,
 "nbformat_minor": 5
}
